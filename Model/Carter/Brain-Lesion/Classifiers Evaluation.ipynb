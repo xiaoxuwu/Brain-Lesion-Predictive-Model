{
 "cells": [
  {
   "cell_type": "markdown",
   "metadata": {},
   "source": [
    "# Classifiers and Exploratory Analysis"
   ]
  },
  {
   "cell_type": "code",
   "execution_count": 49,
   "metadata": {
    "collapsed": false
   },
   "outputs": [],
   "source": [
    "# external imports\n",
    "import imp\n",
    "module_name = 'Model.Utils.utility_functions'\n",
    "desktop_module_path = 'C:\\\\Users\\\\Carter Wu\\\\Documents\\\\CS 188\\\\Brain-Lesion-Predictive-Model\\\\Model\\\\Utils\\\\utility_functions.py'\n",
    "module_path = '/home/carter/Documents/Brain-Lesion-Predictive-Model/Model/Utils/utility_functions.py'\n",
    "utility_functions = imp.load_source(module_name, desktop_module_path)\n",
    "\n",
    "# import libraries\n",
    "import pandas as pd\n",
    "import numpy as np\n",
    "import sklearn as sk\n",
    "import random\n",
    "import itertools\n",
    "from sklearn.model_selection import train_test_split\n",
    "\n",
    "# models\n",
    "from sklearn.linear_model import LogisticRegression\n",
    "from sklearn.neural_network import MLPClassifier\n",
    "from sklearn.ensemble import ExtraTreesClassifier, VotingClassifier, RandomForestClassifier, AdaBoostClassifier\n",
    "from sklearn.gaussian_process import GaussianProcessClassifier\n",
    "\n",
    "# use path to get data\n",
    "desktop_path = 'C:\\\\Users\\\\Carter Wu\\\\Documents\\\\CS 188\\\\Brain-Lesion-Predictive-Model\\\\Data\\\\MRI-DATA\\\\train_data.csv'\n",
    "path = '/home/carter/Documents/Brain-Lesion-Predictive-Model/Data/MRI-DATA/train_data.csv'\n",
    "(X, Y, data) = utility_functions.get_csv(desktop_path)"
   ]
  },
  {
   "cell_type": "markdown",
   "metadata": {},
   "source": [
    "### Logistic Regression"
   ]
  },
  {
   "cell_type": "code",
   "execution_count": 42,
   "metadata": {
    "collapsed": false
   },
   "outputs": [],
   "source": [
    "# Model creation\n",
    "LRmodel = LogisticRegression()"
   ]
  },
  {
   "cell_type": "code",
   "execution_count": 4,
   "metadata": {
    "collapsed": false
   },
   "outputs": [
    {
     "name": "stdout",
     "output_type": "stream",
     "text": [
      "Mean: 0.770787166113\n",
      "Std: 0.0323662586836\n"
     ]
    }
   ],
   "source": [
    "# Model evaluation\n",
    "mean, score_list = utility_functions.cross_validate(LRmodel, data, 5)\n",
    "print 'Mean: {}\\nStd: {}'.format(mean, np.std(score_list))"
   ]
  },
  {
   "cell_type": "markdown",
   "metadata": {},
   "source": [
    "### Neural Network"
   ]
  },
  {
   "cell_type": "code",
   "execution_count": 43,
   "metadata": {
    "collapsed": true
   },
   "outputs": [],
   "source": [
    "# Model creation\n",
    "MLPmodel = MLPClassifier()"
   ]
  },
  {
   "cell_type": "code",
   "execution_count": 6,
   "metadata": {
    "collapsed": false
   },
   "outputs": [
    {
     "name": "stdout",
     "output_type": "stream",
     "text": [
      "Mean: 0.731970353645\n",
      "Std: 0.0340768215003\n"
     ]
    }
   ],
   "source": [
    "# Model Evaluation\n",
    "mean, score_list = utility_functions.cross_validate(MLPmodel, data, 5)\n",
    "print 'Mean: {}\\nStd: {}'.format(mean, np.std(score_list))"
   ]
  },
  {
   "cell_type": "markdown",
   "metadata": {},
   "source": [
    "###  Ada Boost"
   ]
  },
  {
   "cell_type": "code",
   "execution_count": 44,
   "metadata": {
    "collapsed": false
   },
   "outputs": [],
   "source": [
    "# Model creation\n",
    "ABmodel = AdaBoostClassifier()"
   ]
  },
  {
   "cell_type": "code",
   "execution_count": 8,
   "metadata": {
    "collapsed": false
   },
   "outputs": [
    {
     "name": "stdout",
     "output_type": "stream",
     "text": [
      "Mean: 0.685705802805\n",
      "Std: 0.111788047786\n"
     ]
    }
   ],
   "source": [
    "# Model Evaluation\n",
    "mean, score_list = utility_functions.cross_validate(ABmodel, data, 5)\n",
    "print 'Mean: {}\\nStd: {}'.format(mean, np.std(score_list))"
   ]
  },
  {
   "cell_type": "markdown",
   "metadata": {},
   "source": [
    "### Random Forest"
   ]
  },
  {
   "cell_type": "code",
   "execution_count": 54,
   "metadata": {
    "collapsed": true
   },
   "outputs": [],
   "source": [
    "# Model creation\n",
    "RFmodel = ExtraTreesClassifier()"
   ]
  },
  {
   "cell_type": "code",
   "execution_count": 55,
   "metadata": {
    "collapsed": false
   },
   "outputs": [
    {
     "name": "stdout",
     "output_type": "stream",
     "text": [
      "Mean: 0.6130155075288144\n",
      "Std: 0.051609499139314924\n",
      "[0.59875453109025001, 0.6273664282709297, 0.69457441513190643, 0.6104223169314219, 0.53395984621956427]\n"
     ]
    }
   ],
   "source": [
    "# Model Evaluation\n",
    "mean, score_list = utility_functions.cross_validate(RFmodel, data, 5)\n",
    "print('Mean: {}\\nStd: {}'.format(mean, np.std(score_list)))\n",
    "print(score_list)"
   ]
  },
  {
   "cell_type": "code",
   "execution_count": 56,
   "metadata": {
    "collapsed": false
   },
   "outputs": [
    {
     "data": {
      "text/plain": [
       "0.95328000000000002"
      ]
     },
     "execution_count": 56,
     "metadata": {},
     "output_type": "execute_result"
    }
   ],
   "source": [
    "# split data\n",
    "X_train, X_test, y_train, y_test = train_test_split(X, Y, train_size=0.75, test_size=0.25)\n",
    "RFmodel.fit(X_train, y_train)\n",
    "RFmodel.score(X_test, y_test)"
   ]
  },
  {
   "cell_type": "markdown",
   "metadata": {},
   "source": [
    "### Soft Voter"
   ]
  },
  {
   "cell_type": "code",
   "execution_count": 47,
   "metadata": {
    "collapsed": false
   },
   "outputs": [],
   "source": [
    "VClassifier = VotingClassifier(estimators=[('RF', RFmodel), ('AB', ABmodel), ('MLP', MLPmodel), ('LR', LRmodel)], voting='soft')"
   ]
  },
  {
   "cell_type": "code",
   "execution_count": 53,
   "metadata": {
    "collapsed": false
   },
   "outputs": [
    {
     "name": "stdout",
     "output_type": "stream",
     "text": [
      "Mean: 0.6985107168429066\n",
      "Std: 0.08695972928429069\n",
      "[0.70044215180545322, 0.60773687161278267, 0.84295105916727542, 0.80515508955875925, 0.68534299105240737, 0.76513605442176869, 0.69630140133241447, 0.56532988357050451, 0.72749742533470652, 0.58921424057299343]\n"
     ]
    }
   ],
   "source": [
    "mean, score_list = utility_functions.cross_validate(VClassifier, data, 10)\n",
    "print('Mean: {}\\nStd: {}'.format(mean, np.std(score_list)))\n",
    "print(score_list)"
   ]
  },
  {
   "cell_type": "markdown",
   "metadata": {},
   "source": []
  }
 ],
 "metadata": {
  "kernelspec": {
   "display_name": "Python 3",
   "language": "python",
   "name": "python3"
  },
  "language_info": {
   "codemirror_mode": {
    "name": "ipython",
    "version": 3
   },
   "file_extension": ".py",
   "mimetype": "text/x-python",
   "name": "python",
   "nbconvert_exporter": "python",
   "pygments_lexer": "ipython3",
   "version": "3.6.0"
  }
 },
 "nbformat": 4,
 "nbformat_minor": 2
}
