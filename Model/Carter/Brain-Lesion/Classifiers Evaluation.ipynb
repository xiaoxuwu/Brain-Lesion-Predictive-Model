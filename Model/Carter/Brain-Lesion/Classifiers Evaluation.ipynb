{
 "cells": [
  {
   "cell_type": "markdown",
   "metadata": {},
   "source": [
    "# Common Classifiers Evaluation"
   ]
  },
  {
   "cell_type": "code",
   "execution_count": 31,
   "metadata": {},
   "outputs": [],
   "source": [
    "# external imports\n",
    "import imp\n",
    "module_name = 'Model.Utils.utility_functions'\n",
    "desktop_module_path = 'C:\\\\Users\\\\Carter Wu\\\\Documents\\\\CS 188\\\\Brain-Lesion-Predictive-Model\\\\Model\\\\Utils\\\\utility_functions.py'\n",
    "module_path = '/home/carter/Documents/Brain-Lesion-Predictive-Model/Model/Utils/utility_functions.py'\n",
    "utility_functions = imp.load_source(module_name, desktop_module_path)\n",
    "\n",
    "# import libraries\n",
    "import pandas as pd\n",
    "import numpy as np\n",
    "import sklearn as sk\n",
    "import random\n",
    "import itertools\n",
    "from sklearn.model_selection import train_test_split\n",
    "\n",
    "# models\n",
    "from sklearn.svm import LinearSVC\n",
    "from sklearn.linear_model import LogisticRegression\n",
    "from sklearn.neural_network import MLPClassifier\n",
    "from sklearn.ensemble import ExtraTreesClassifier, VotingClassifier, RandomForestClassifier, AdaBoostClassifier\n",
    "from sklearn.gaussian_process import GaussianProcessClassifier\n",
    "from sklearn.neighbors import KNeighborsClassifier\n",
    "from sklearn.naive_bayes import GaussianNB\n",
    "\n",
    "# use path to get data\n",
    "desktop_path = 'C:\\\\Users\\\\Carter Wu\\\\Documents\\\\CS 188\\\\Brain-Lesion-Predictive-Model\\\\Data\\\\MRI-DATA\\\\train_data.csv'\n",
    "path = '/home/carter/Documents/Brain-Lesion-Predictive-Model/Data/MRI-DATA/train_data.csv'\n",
    "(X, Y, data) = utility_functions.get_csv(desktop_path)"
   ]
  },
  {
   "cell_type": "markdown",
   "metadata": {},
   "source": [
    "### Linear SVC (SVM)"
   ]
  },
  {
   "cell_type": "code",
   "execution_count": 10,
   "metadata": {},
   "outputs": [],
   "source": [
    "LSVCmodel = LinearSVC()"
   ]
  },
  {
   "cell_type": "code",
   "execution_count": 16,
   "metadata": {},
   "outputs": [
    {
     "name": "stdout",
     "output_type": "stream",
     "text": [
      "Trivial Train-Test Split:\n",
      "Score: 0.6449\n"
     ]
    }
   ],
   "source": [
    "# Trivial split\n",
    "X_train, X_test, y_train, y_test = train_test_split(X, Y, train_size=0.8)\n",
    "LSVCmodel.fit(X_train, y_train)\n",
    "print('Trivial Train-Test Split:\\nScore: {}'.format(LSVCmodel.score(X_test, y_test)))"
   ]
  },
  {
   "cell_type": "code",
   "execution_count": 14,
   "metadata": {},
   "outputs": [
    {
     "name": "stdout",
     "output_type": "stream",
     "text": [
      "k-fold Cross Validation:\n",
      "Mean: 0.7217287914966054\n",
      "Std: 0.05160685121086194\n"
     ]
    }
   ],
   "source": [
    "# k-fold Cross Validation\n",
    "mean, score_list = utility_functions.cross_validate(LSVCmodel, data, 5)\n",
    "print('k-fold Cross Validation:\\nMean: {}\\nStd: {}'.format(mean, np.std(score_list)))"
   ]
  },
  {
   "cell_type": "markdown",
   "metadata": {},
   "source": [
    "### Logistic Regression"
   ]
  },
  {
   "cell_type": "code",
   "execution_count": 2,
   "metadata": {},
   "outputs": [],
   "source": [
    "# Model creation\n",
    "LRmodel = LogisticRegression()"
   ]
  },
  {
   "cell_type": "code",
   "execution_count": 6,
   "metadata": {},
   "outputs": [
    {
     "name": "stdout",
     "output_type": "stream",
     "text": [
      "Trivial Train-Test Split:\n",
      "Score: 0.8239\n"
     ]
    }
   ],
   "source": [
    "# Trivial split\n",
    "X_train, X_test, y_train, y_test = train_test_split(X, Y, train_size=0.8)\n",
    "LRmodel.fit(X_train, y_train)\n",
    "print('Trivial Train-Test Split:\\nScore: {}'.format(LRmodel.score(X_test, y_test)))"
   ]
  },
  {
   "cell_type": "code",
   "execution_count": 7,
   "metadata": {},
   "outputs": [
    {
     "name": "stdout",
     "output_type": "stream",
     "text": [
      "k-fold Cross Validation:\n",
      "Mean: 0.7374626983007218\n",
      "Std: 0.05211009031396745\n"
     ]
    }
   ],
   "source": [
    "# k-fold Cross Validation\n",
    "mean, score_list = utility_functions.cross_validate(LRmodel, data, 5)\n",
    "print('k-fold Cross Validation:\\nMean: {}\\nStd: {}'.format(mean, np.std(score_list)))"
   ]
  },
  {
   "cell_type": "markdown",
   "metadata": {},
   "source": [
    "### Neural Network"
   ]
  },
  {
   "cell_type": "code",
   "execution_count": 17,
   "metadata": {
    "collapsed": true
   },
   "outputs": [],
   "source": [
    "# Model creation\n",
    "MLPmodel = MLPClassifier()"
   ]
  },
  {
   "cell_type": "code",
   "execution_count": 18,
   "metadata": {},
   "outputs": [
    {
     "name": "stdout",
     "output_type": "stream",
     "text": [
      "Trivial Train-Test Split:\n",
      "Score: 0.9179\n"
     ]
    }
   ],
   "source": [
    "# Trivial split\n",
    "X_train, X_test, y_train, y_test = train_test_split(X, Y, train_size=0.8)\n",
    "MLPmodel.fit(X_train, y_train)\n",
    "print('Trivial Train-Test Split:\\nScore: {}'.format(MLPmodel.score(X_test, y_test)))"
   ]
  },
  {
   "cell_type": "code",
   "execution_count": 20,
   "metadata": {},
   "outputs": [
    {
     "name": "stdout",
     "output_type": "stream",
     "text": [
      "k-fold Cross Validation:\n",
      "Mean: 0.68680056648256\n",
      "Std: 0.01701945300119024\n"
     ]
    }
   ],
   "source": [
    "# k-fold Cross Validation\n",
    "mean, score_list = utility_functions.cross_validate(MLPmodel, data, 5)\n",
    "print('k-fold Cross Validation:\\nMean: {}\\nStd: {}'.format(mean, np.std(score_list)))"
   ]
  },
  {
   "cell_type": "markdown",
   "metadata": {},
   "source": [
    "###  Ada Boost"
   ]
  },
  {
   "cell_type": "code",
   "execution_count": 21,
   "metadata": {},
   "outputs": [],
   "source": [
    "# Model creation\n",
    "ABmodel = AdaBoostClassifier()"
   ]
  },
  {
   "cell_type": "code",
   "execution_count": 22,
   "metadata": {},
   "outputs": [
    {
     "name": "stdout",
     "output_type": "stream",
     "text": [
      "Trivial Train-Test Split:\n",
      "Score: 0.8583\n"
     ]
    }
   ],
   "source": [
    "# Trivial split\n",
    "X_train, X_test, y_train, y_test = train_test_split(X, Y, train_size=0.8)\n",
    "ABmodel.fit(X_train, y_train)\n",
    "print('Trivial Train-Test Split:\\nScore: {}'.format(ABmodel.score(X_test, y_test)))"
   ]
  },
  {
   "cell_type": "code",
   "execution_count": 23,
   "metadata": {},
   "outputs": [
    {
     "name": "stdout",
     "output_type": "stream",
     "text": [
      "k-fold Cross Validation:\n",
      "Mean: 0.6970917245209628\n",
      "Std: 0.05374776756657176\n"
     ]
    }
   ],
   "source": [
    "# k-fold Cross Validation\n",
    "mean, score_list = utility_functions.cross_validate(ABmodel, data, 5)\n",
    "print('k-fold Cross Validation:\\nMean: {}\\nStd: {}'.format(mean, np.std(score_list)))"
   ]
  },
  {
   "cell_type": "markdown",
   "metadata": {},
   "source": [
    "### Random Forest"
   ]
  },
  {
   "cell_type": "code",
   "execution_count": 24,
   "metadata": {
    "collapsed": true
   },
   "outputs": [],
   "source": [
    "# Model creation\n",
    "RFmodel = ExtraTreesClassifier()"
   ]
  },
  {
   "cell_type": "code",
   "execution_count": 25,
   "metadata": {},
   "outputs": [
    {
     "name": "stdout",
     "output_type": "stream",
     "text": [
      "Trivial Train-Test Split:\n",
      "Score: 0.954\n"
     ]
    }
   ],
   "source": [
    "# Trivial split\n",
    "X_train, X_test, y_train, y_test = train_test_split(X, Y, train_size=0.8)\n",
    "RFmodel.fit(X_train, y_train)\n",
    "print('Trivial Train-Test Split:\\nScore: {}'.format(RFmodel.score(X_test, y_test)))"
   ]
  },
  {
   "cell_type": "code",
   "execution_count": 26,
   "metadata": {},
   "outputs": [
    {
     "name": "stdout",
     "output_type": "stream",
     "text": [
      "k-fold Cross Validation:\n",
      "Mean: 0.5917007418727687\n",
      "Std: 0.0314623189914673\n"
     ]
    }
   ],
   "source": [
    "# k-fold Cross Validation\n",
    "mean, score_list = utility_functions.cross_validate(RFmodel, data, 5)\n",
    "print('k-fold Cross Validation:\\nMean: {}\\nStd: {}'.format(mean, np.std(score_list)))"
   ]
  },
  {
   "cell_type": "markdown",
   "metadata": {},
   "source": [
    "### KNeighbors Classifier"
   ]
  },
  {
   "cell_type": "code",
   "execution_count": 28,
   "metadata": {
    "collapsed": true
   },
   "outputs": [],
   "source": [
    "# Model creation\n",
    "KNmodel = KNeighborsClassifier()"
   ]
  },
  {
   "cell_type": "code",
   "execution_count": 29,
   "metadata": {},
   "outputs": [
    {
     "name": "stdout",
     "output_type": "stream",
     "text": [
      "Trivial Train-Test Split:\n",
      "Score: 0.9253\n"
     ]
    }
   ],
   "source": [
    "# Trivial split\n",
    "X_train, X_test, y_train, y_test = train_test_split(X, Y, train_size=0.8)\n",
    "KNmodel.fit(X_train, y_train)\n",
    "print('Trivial Train-Test Split:\\nScore: {}'.format(KNmodel.score(X_test, y_test)))"
   ]
  },
  {
   "cell_type": "code",
   "execution_count": 30,
   "metadata": {},
   "outputs": [
    {
     "name": "stdout",
     "output_type": "stream",
     "text": [
      "k-fold Cross Validation:\n",
      "Mean: 0.6908795521927421\n",
      "Std: 0.051312904188088905\n"
     ]
    }
   ],
   "source": [
    "# k-fold Cross Validation\n",
    "mean, score_list = utility_functions.cross_validate(KNmodel, data, 5)\n",
    "print('k-fold Cross Validation:\\nMean: {}\\nStd: {}'.format(mean, np.std(score_list)))"
   ]
  },
  {
   "cell_type": "markdown",
   "metadata": {},
   "source": [
    "### Naive Bayes Classifier"
   ]
  },
  {
   "cell_type": "code",
   "execution_count": 32,
   "metadata": {
    "collapsed": true
   },
   "outputs": [],
   "source": [
    "NBmodel = GaussianNB()"
   ]
  },
  {
   "cell_type": "code",
   "execution_count": 33,
   "metadata": {},
   "outputs": [
    {
     "name": "stdout",
     "output_type": "stream",
     "text": [
      "Trivial Train-Test Split:\n",
      "Score: 0.718\n"
     ]
    }
   ],
   "source": [
    "# Trivial split\n",
    "X_train, X_test, y_train, y_test = train_test_split(X, Y, train_size=0.8)\n",
    "NBmodel.fit(X_train, y_train)\n",
    "print('Trivial Train-Test Split:\\nScore: {}'.format(NBmodel.score(X_test, y_test)))"
   ]
  },
  {
   "cell_type": "code",
   "execution_count": 34,
   "metadata": {},
   "outputs": [
    {
     "name": "stdout",
     "output_type": "stream",
     "text": [
      "k-fold Cross Validation:\n",
      "Mean: 0.701610321611875\n",
      "Std: 0.07027850299745182\n"
     ]
    }
   ],
   "source": [
    "# k-fold Cross Validation\n",
    "mean, score_list = utility_functions.cross_validate(NBmodel, data, 5)\n",
    "print('k-fold Cross Validation:\\nMean: {}\\nStd: {}'.format(mean, np.std(score_list)))"
   ]
  },
  {
   "cell_type": "markdown",
   "metadata": {},
   "source": [
    "### Soft Voter"
   ]
  },
  {
   "cell_type": "code",
   "execution_count": 47,
   "metadata": {},
   "outputs": [],
   "source": [
    "VClassifier = VotingClassifier(estimators=[('RF', RFmodel), ('AB', ABmodel), ('MLP', MLPmodel), ('LR', LRmodel)], voting='soft')"
   ]
  },
  {
   "cell_type": "code",
   "execution_count": 53,
   "metadata": {},
   "outputs": [
    {
     "name": "stdout",
     "output_type": "stream",
     "text": [
      "Mean: 0.6985107168429066\n",
      "Std: 0.08695972928429069\n",
      "[0.70044215180545322, 0.60773687161278267, 0.84295105916727542, 0.80515508955875925, 0.68534299105240737, 0.76513605442176869, 0.69630140133241447, 0.56532988357050451, 0.72749742533470652, 0.58921424057299343]\n"
     ]
    }
   ],
   "source": [
    "mean, score_list = utility_functions.cross_validate(VClassifier, data, 5)\n",
    "print('Mean: {}\\nStd: {}'.format(mean, np.std(score_list)))\n",
    "print(score_list)"
   ]
  },
  {
   "cell_type": "markdown",
   "metadata": {},
   "source": []
  }
 ],
 "metadata": {
  "kernelspec": {
   "display_name": "Python 2",
   "language": "python",
   "name": "python2"
  },
  "language_info": {
   "codemirror_mode": {
    "name": "ipython",
    "version": 2
   },
   "file_extension": ".py",
   "mimetype": "text/x-python",
   "name": "python",
   "nbconvert_exporter": "python",
   "pygments_lexer": "ipython2",
   "version": "2.7.13"
  }
 },
 "nbformat": 4,
 "nbformat_minor": 2
}
