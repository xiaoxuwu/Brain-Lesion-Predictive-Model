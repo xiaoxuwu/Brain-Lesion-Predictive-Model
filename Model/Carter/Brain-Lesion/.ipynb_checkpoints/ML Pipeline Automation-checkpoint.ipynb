{
 "cells": [
  {
   "cell_type": "code",
   "execution_count": null,
   "metadata": {
    "collapsed": false
   },
   "outputs": [
    {
     "name": "stderr",
     "output_type": "stream",
     "text": [
      "/home/carter/Documents/Brain-Lesion-Predictive-Model/Model/Utils/utility_functions.py:1: RuntimeWarning: Parent module 'Model.Utils' not found while handling absolute import\n",
      "  # manifest constants\n"
     ]
    }
   ],
   "source": [
    "# external imports\n",
    "import imp\n",
    "module_name = 'Model.Utils.utility_functions'\n",
    "module_path = '/home/carter/Documents/Brain-Lesion-Predictive-Model/Model/Utils/utility_functions.py'\n",
    "utility_functions = imp.load_source(module_name, module_path)\n",
    "\n",
    "# import libraries\n",
    "import pandas as pd\n",
    "import numpy as np\n",
    "import sklearn as sk\n",
    "import random\n",
    "import itertools\n",
    "\n",
    "# models\n",
    "from tpot import TPOTClassifier\n",
    "from sklearn.linear_model import LogisticRegression\n",
    "from sklearn.neural_network import MLPClassifier\n",
    "from sklearn.ensemble import AdaBoostClassifier\n",
    "from sklearn.ensemble import RandomForestClassifier\n",
    "from sklearn.gaussian_process import GaussianProcessClassifier\n",
    "\n",
    "# use path to get data\n",
    "path = \"/home/carter/Documents/Brain-Lesion-Predictive-Model/Data/MRI-DATA/train_data.csv\"\n",
    "(X, Y, data) = utility_functions.get_csv(path)"
   ]
  },
  {
   "cell_type": "code",
   "execution_count": null,
   "metadata": {
    "collapsed": true
   },
   "outputs": [],
   "source": []
  }
 ],
 "metadata": {
  "kernelspec": {
   "display_name": "Python 2",
   "language": "python",
   "name": "python2"
  },
  "language_info": {
   "codemirror_mode": {
    "name": "ipython",
    "version": 2
   },
   "file_extension": ".py",
   "mimetype": "text/x-python",
   "name": "python",
   "nbconvert_exporter": "python",
   "pygments_lexer": "ipython2",
   "version": "2.7.13"
  }
 },
 "nbformat": 4,
 "nbformat_minor": 2
}
