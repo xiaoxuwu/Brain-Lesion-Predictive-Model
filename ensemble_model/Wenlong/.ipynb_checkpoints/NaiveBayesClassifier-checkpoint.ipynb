{
 "cells": [
  {
   "cell_type": "code",
   "execution_count": 2,
   "metadata": {
    "collapsed": true
   },
   "outputs": [],
   "source": [
    "import time\n",
    "import os\n",
    "\n",
    "import pandas as pd\n",
    "import numpy as np\n",
    "import theano\n",
    "import theano.tensor as T\n",
    "\n",
    "from sklearn.model_selection import train_test_split"
   ]
  },
  {
   "cell_type": "code",
   "execution_count": 3,
   "metadata": {
    "collapsed": true
   },
   "outputs": [],
   "source": [
    "def load_dataset(filename):\n",
    "    print(filename)\n",
    "    df = pd.read_csv(filename)\n",
    "    X_id = df.iloc[:, 0:4]\n",
    "    X_train = df.iloc[:, 4:-1]\n",
    "    y_train = df.iloc[:, -1:]\n",
    "    return X_id, X_train, y_train\n",
    "    #return np.matrix(X_id), np.matrix(X_train), np.matrix(y_train)"
   ]
  },
  {
   "cell_type": "code",
   "execution_count": 4,
   "metadata": {
    "scrolled": false
   },
   "outputs": [
    {
     "name": "stdout",
     "output_type": "stream",
     "text": [
      "./data/train_data.csv\n"
     ]
    }
   ],
   "source": [
    "X_id, X_train, y_train = load_dataset('./data/train_data.csv')"
   ]
  },
  {
   "cell_type": "code",
   "execution_count": 5,
   "metadata": {
    "collapsed": true
   },
   "outputs": [],
   "source": [
    "def get_data(X_train, y_train):\n",
    "    X, X_val, y, y_val = train_test_split(X_train, np.ndarray.flatten(np.array(y_train)), test_size = 0.33)\n",
    "    return X, y, X_val, y_val"
   ]
  },
  {
   "cell_type": "code",
   "execution_count": 8,
   "metadata": {},
   "outputs": [
    {
     "name": "stdout",
     "output_type": "stream",
     "text": [
      "Fitting Gaussian NB ...\n",
      "Fitting Multinomial NB ...\n",
      "Fitting Bernoulli NB ...\n"
     ]
    },
    {
     "data": {
      "text/plain": [
       "BernoulliNB(alpha=1.0, binarize=0.0, class_prior=None, fit_prior=True)"
      ]
     },
     "execution_count": 8,
     "metadata": {},
     "output_type": "execute_result"
    }
   ],
   "source": [
    "from sklearn.naive_bayes import GaussianNB\n",
    "from sklearn.naive_bayes import MultinomialNB\n",
    "from sklearn.naive_bayes import BernoulliNB\n",
    "\n",
    "X, X_val, y, y_val = train_test_split(X_train, np.ndarray.flatten(np.array(y_train)), test_size = 0.33)\n",
    "\n",
    "gnb = GaussianNB()\n",
    "mnb = MultinomialNB()\n",
    "bnb = BernoulliNB()\n",
    "\n",
    "print(\"Fitting Gaussian NB ...\")\n",
    "gnb.fit(X, y)\n",
    "print(\"Fitting Multinomial NB ...\")\n",
    "mnb.fit(X, y)\n",
    "print(\"Fitting Bernoulli NB ...\")\n",
    "bnb.fit(X, y)"
   ]
  },
  {
   "cell_type": "code",
   "execution_count": 7,
   "metadata": {},
   "outputs": [
    {
     "name": "stdout",
     "output_type": "stream",
     "text": [
      "0.706606060606\n"
     ]
    }
   ],
   "source": [
    "from sklearn.metrics import accuracy_score\n",
    "print(gnb.score(X_val, y_val))\n",
    "print(mnb.score(X_val, y_val))\n",
    "print(bnb.score(X_val, y_val))"
   ]
  },
  {
   "cell_type": "code",
   "execution_count": null,
   "metadata": {
    "collapsed": true
   },
   "outputs": [],
   "source": []
  }
 ],
 "metadata": {
  "kernelspec": {
   "display_name": "Python 2",
   "language": "python",
   "name": "python2"
  },
  "language_info": {
   "codemirror_mode": {
    "name": "ipython",
    "version": 2
   },
   "file_extension": ".py",
   "mimetype": "text/x-python",
   "name": "python",
   "nbconvert_exporter": "python",
   "pygments_lexer": "ipython2",
   "version": "2.7.13"
  }
 },
 "nbformat": 4,
 "nbformat_minor": 2
}
