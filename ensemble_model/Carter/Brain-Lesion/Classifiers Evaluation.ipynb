{
 "cells": [
  {
   "cell_type": "markdown",
   "metadata": {},
   "source": [
    "# Classifiers and Exploratory Analysis"
   ]
  },
  {
   "cell_type": "code",
   "execution_count": 30,
   "metadata": {
    "collapsed": false
   },
   "outputs": [],
   "source": [
    "# import utility functions\n",
    "import imp\n",
    "module_name = 'ensemble_learning.Utils.utility_functions'\n",
    "module_path = '/home/carter/Documents/Brain-Lesion-Predictive-Model/ensemble_model/Utils/utility_functions.py'\n",
    "utility_functions = imp.load_source(module_name, module_path)\n",
    "\n",
    "# import libraries\n",
    "import pandas as pd\n",
    "import numpy as np\n",
    "import sklearn as sk\n",
    "import random\n",
    "import itertools\n",
    "\n",
    "# models\n",
    "from sklearn.linear_model import LogisticRegression\n",
    "from sklearn.neural_network import MLPClassifier\n",
    "from sklearn.ensemble import AdaBoostClassifier\n",
    "\n",
    "# use path to get data\n",
    "path = \"/home/carter/Documents/Brain-Lesion-Predictive-Model/Data/MRI-DATA/train_data.csv\"\n",
    "(X, Y, data) = utility_functions.get_csv(path)"
   ]
  },
  {
   "cell_type": "markdown",
   "metadata": {},
   "source": [
    "### Logistic Regression"
   ]
  },
  {
   "cell_type": "code",
   "execution_count": 31,
   "metadata": {
    "collapsed": false
   },
   "outputs": [],
   "source": [
    "# Model creation\n",
    "LRmodel = LogisticRegression()"
   ]
  },
  {
   "cell_type": "code",
   "execution_count": 32,
   "metadata": {
    "collapsed": false
   },
   "outputs": [
    {
     "name": "stdout",
     "output_type": "stream",
     "text": [
      "Mean: 0.768379670221\n",
      "Std: 0.0584624037752\n"
     ]
    }
   ],
   "source": [
    "# Model evaluation\n",
    "mean, score_list = utility_functions.cross_validate(LRmodel, data, 5)\n",
    "print 'Mean: {}\\nStd: {}'.format(mean, np.std(score_list))"
   ]
  },
  {
   "cell_type": "markdown",
   "metadata": {},
   "source": [
    "### Neural Network"
   ]
  },
  {
   "cell_type": "code",
   "execution_count": 33,
   "metadata": {
    "collapsed": true
   },
   "outputs": [],
   "source": [
    "# Model creation\n",
    "MLPmodel = MLPClassifier()"
   ]
  },
  {
   "cell_type": "code",
   "execution_count": 34,
   "metadata": {
    "collapsed": false
   },
   "outputs": [
    {
     "name": "stdout",
     "output_type": "stream",
     "text": [
      "Mean: 0.678759830366\n",
      "Std: 0.0219687274456\n"
     ]
    }
   ],
   "source": [
    "# Model Evaluation\n",
    "mean, score_list = utility_functions.cross_validate(MLPmodel, data, 5)\n",
    "print 'Mean: {}\\nStd: {}'.format(mean, np.std(score_list))"
   ]
  },
  {
   "cell_type": "markdown",
   "metadata": {},
   "source": [
    "###  Ada Boost"
   ]
  },
  {
   "cell_type": "code",
   "execution_count": 35,
   "metadata": {
    "collapsed": false
   },
   "outputs": [],
   "source": [
    "# Model creation\n",
    "ABmodel = AdaBoostClassifier()"
   ]
  },
  {
   "cell_type": "code",
   "execution_count": null,
   "metadata": {
    "collapsed": true
   },
   "outputs": [],
   "source": [
    "# Model Evaluation\n",
    "mean, score_list = utility_functions.cross_validate(ABmodel, data, 5)\n",
    "print 'Mean: {}\\nStd: {}'.format(mean, np.std(score_list))"
   ]
  },
  {
   "cell_type": "code",
   "execution_count": null,
   "metadata": {
    "collapsed": true
   },
   "outputs": [],
   "source": []
  }
 ],
 "metadata": {
  "kernelspec": {
   "display_name": "Python 2",
   "language": "python",
   "name": "python2"
  },
  "language_info": {
   "codemirror_mode": {
    "name": "ipython",
    "version": 2
   },
   "file_extension": ".py",
   "mimetype": "text/x-python",
   "name": "python",
   "nbconvert_exporter": "python",
   "pygments_lexer": "ipython2",
   "version": "2.7.13"
  }
 },
 "nbformat": 4,
 "nbformat_minor": 2
}
