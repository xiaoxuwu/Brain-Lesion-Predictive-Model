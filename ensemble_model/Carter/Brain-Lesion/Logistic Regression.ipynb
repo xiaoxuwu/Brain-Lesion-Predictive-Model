{
 "cells": [
  {
   "cell_type": "code",
   "execution_count": 8,
   "metadata": {
    "collapsed": false
   },
   "outputs": [],
   "source": [
    "# import utility functions\n",
    "import imp\n",
    "utility_functions = imp.load_source('ensemble_learning.Utils.utility_functions', '/home/carter/Documents/Brain-Lesion-Predictive-Model/ensemble_model/Utils/utility_functions.py')\n",
    "\n",
    "# import libraries\n",
    "import pandas as pd\n",
    "import numpy as np\n",
    "import sklearn as sk\n",
    "import random\n",
    "import itertools\n",
    "from sklearn.linear_model import LogisticRegression\n",
    "from sklearn.neural_network import MLPClassifier\n",
    "from sklearn.model_selection import train_test_split, cross_val_score"
   ]
  },
  {
   "cell_type": "code",
   "execution_count": 9,
   "metadata": {
    "collapsed": false
   },
   "outputs": [],
   "source": [
    "# use path to get data\n",
    "path = \"/home/carter/Documents/Brain-Lesion-Predictive-Model/Data/MRI-DATA/train_data.csv\"\n",
    "(X, Y, data) = utility_functions.get_csv(path)\n",
    "\n",
    "X_train, X_test, y_train, y_test = train_test_split(X, Y)"
   ]
  },
  {
   "cell_type": "code",
   "execution_count": 10,
   "metadata": {
    "collapsed": false
   },
   "outputs": [],
   "source": [
    "# Model creation\n",
    "LRmodel = LogisticRegression()"
   ]
  },
  {
   "cell_type": "code",
   "execution_count": 11,
   "metadata": {
    "collapsed": false
   },
   "outputs": [
    {
     "data": {
      "text/plain": [
       "(0.74477809567920727,\n",
       " [0.78644724104549857,\n",
       "  0.76240548204158787,\n",
       "  0.72932179512980477,\n",
       "  0.78213058419243986,\n",
       "  0.66358537598670542])"
      ]
     },
     "execution_count": 11,
     "metadata": {},
     "output_type": "execute_result"
    }
   ],
   "source": [
    "utility_functions.cross_validate(LRmodel, data, 5)"
   ]
  }
 ],
 "metadata": {
  "kernelspec": {
   "display_name": "Python 2",
   "language": "python",
   "name": "python2"
  },
  "language_info": {
   "codemirror_mode": {
    "name": "ipython",
    "version": 2
   },
   "file_extension": ".py",
   "mimetype": "text/x-python",
   "name": "python",
   "nbconvert_exporter": "python",
   "pygments_lexer": "ipython2",
   "version": "2.7.13"
  }
 },
 "nbformat": 4,
 "nbformat_minor": 2
}
